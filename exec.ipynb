{
 "cells": [
  {
   "cell_type": "code",
   "execution_count": 47,
   "metadata": {},
   "outputs": [
    {
     "name": "stdout",
     "output_type": "stream",
     "text": [
      "ANTLR runtime and generated code versions disagree: 4.11.1!=4.12.0\n",
      "ANTLR runtime and generated code versions disagree: 4.11.1!=4.12.0\n",
      "Liste des états : ['S0', 'S1', 'S2', 'S3', 'S4', 'S5', 'S6', 'D1', 'D2', 'D3', 'D4', 'D5', 'D6']\n",
      "Liste des gains : ['', '', '', '', '', '', '', '', '', '', '', '', '']\n",
      "\n",
      "[Action(None)]\n",
      "\n",
      "Transition(State(S0), Action(), [State(S1), State(S2)], [5, 5])\n",
      "Transition(State(S1), Action(), [State(S4), State(S3)], [5, 5])\n",
      "Transition(State(S2), Action(), [State(S5), State(S6)], [5, 5])\n",
      "Transition(State(S3), Action(), [State(S1), State(D1)], [5, 5])\n",
      "Transition(State(S4), Action(), [State(D2), State(D3)], [5, 5])\n",
      "Transition(State(S5), Action(), [State(D4), State(D5)], [5, 5])\n",
      "Transition(State(S6), Action(), [State(D6), State(S2)], [5, 5])\n",
      "Transition(State(D1), Action(), [State(D1)], [1])\n",
      "Transition(State(D2), Action(), [State(D2)], [1])\n",
      "Transition(State(D3), Action(), [State(D3)], [1])\n",
      "Transition(State(D4), Action(), [State(D4)], [1])\n",
      "Transition(State(D5), Action(), [State(D5)], [1])\n",
      "Transition(State(D6), Action(), [State(D6)], [1])\n",
      "\n",
      "S0 = ['D2', 'D3', 'D4', 'D5', 'D6', 'S4', 'S5', 'S2', 'S6'] ; S1 = ['D1'] ; S? = ['S0', 'S1', 'S3']\n"
     ]
    }
   ],
   "source": [
    "!python3 main.py < ./exemple/de.mdp"
   ]
  },
  {
   "cell_type": "code",
   "execution_count": null,
   "metadata": {},
   "outputs": [],
   "source": []
  }
 ],
 "metadata": {
  "kernelspec": {
   "display_name": "Python 3",
   "language": "python",
   "name": "python3"
  },
  "language_info": {
   "codemirror_mode": {
    "name": "ipython",
    "version": 3
   },
   "file_extension": ".py",
   "mimetype": "text/x-python",
   "name": "python",
   "nbconvert_exporter": "python",
   "pygments_lexer": "ipython3",
   "version": "3.10.10"
  },
  "orig_nbformat": 4
 },
 "nbformat": 4,
 "nbformat_minor": 2
}
